{
 "cells": [
  {
   "cell_type": "markdown",
   "id": "94d4c51a",
   "metadata": {},
   "source": [
    "## Неделя 1. Основные конструкции Python\n",
    "\n",
    "### 1.1 Условные операторы (if, elif, else)\n",
    "Условные операторы используются для выполнения кода в зависимости от условий.\n"
   ]
  },
  {
   "cell_type": "markdown",
   "id": "14e0bc95",
   "metadata": {},
   "source": [
    "Пример:\n"
   ]
  },
  {
   "cell_type": "code",
   "execution_count": 1,
   "id": "0bf2cf78",
   "metadata": {},
   "outputs": [
    {
     "name": "stdout",
     "output_type": "stream",
     "text": [
      "x больше 5\n"
     ]
    }
   ],
   "source": [
    "x = 10\n",
    "if x > 5:\n",
    "    print(\"x больше 5\")\n",
    "elif x == 5:\n",
    "    print(\"x равно 5\")\n",
    "else:\n",
    "    print(\"x меньше 5\")"
   ]
  },
  {
   "cell_type": "markdown",
   "id": "3fb98d29",
   "metadata": {},
   "source": [
    "\n",
    "### 1.2 Циклы (for, while)\n",
    "Циклы используются для повторения набора команд.\n",
    "\n",
    "Пример:\n"
   ]
  },
  {
   "cell_type": "code",
   "execution_count": 2,
   "id": "2ea8d894",
   "metadata": {},
   "outputs": [
    {
     "name": "stdout",
     "output_type": "stream",
     "text": [
      "0\n",
      "1\n",
      "2\n",
      "3\n",
      "4\n"
     ]
    }
   ],
   "source": [
    "for i in range(5):\n",
    "    print(i)"
   ]
  },
  {
   "cell_type": "markdown",
   "id": "4d4d5d2e",
   "metadata": {},
   "source": [
    "\n",
    "Цикл `while` повторяет выполнение, пока условие истинно:\n"
   ]
  },
  {
   "cell_type": "code",
   "execution_count": 3,
   "id": "3de78cd2",
   "metadata": {},
   "outputs": [
    {
     "name": "stdout",
     "output_type": "stream",
     "text": [
      "0\n",
      "1\n",
      "2\n",
      "3\n",
      "4\n"
     ]
    }
   ],
   "source": [
    "count = 0\n",
    "while count < 5:\n",
    "    print(count)\n",
    "    count += 1\n",
    "\n"
   ]
  },
  {
   "cell_type": "markdown",
   "id": "3f16f722",
   "metadata": {},
   "source": [
    "\n",
    "\n",
    "### 1.3 Ввод/Вывод\n",
    "Ввод данных с клавиатуры осуществляется с помощью функции `input()`, вывод — через `print()`.\n",
    "\n",
    "Пример:\n"
   ]
  },
  {
   "cell_type": "code",
   "execution_count": 4,
   "id": "282f9cd2",
   "metadata": {},
   "outputs": [
    {
     "name": "stdout",
     "output_type": "stream",
     "text": [
      "Привет, Жасулан!\n"
     ]
    }
   ],
   "source": [
    "\n",
    "name = input(\"Введите ваше имя: \")\n",
    "print(f\"Привет, {name}!\")\n"
   ]
  },
  {
   "cell_type": "markdown",
   "id": "1c287263",
   "metadata": {},
   "source": [
    "### Практические задачи:\n",
    "\n",
    "1. Напишите программу, которая проверяет, является ли введённое число чётным или нечётным.\n",
    "2. Создайте цикл, который выводит числа от 1 до 100 в обратном порядке.\n",
    "3. Напишите программу, которая запрашивает у пользователя строку и выводит её в обратном порядке.\n",
    "4. Напишите программу, которая запрашивает у пользователя два числа и выводит большее из них.\n",
    "5. Используя цикл `for`, выведите таблицу умножения для числа, введённого пользователем.\n"
   ]
  },
  {
   "cell_type": "code",
   "execution_count": 5,
   "id": "e49cd7ef",
   "metadata": {},
   "outputs": [
    {
     "name": "stdout",
     "output_type": "stream",
     "text": [
      "Число четное\n"
     ]
    }
   ],
   "source": [
    "#1\n",
    "x = 10\n",
    "if x%2 == 0:\n",
    "    print(\"Число четное\")\n",
    "else:\n",
    "    print(\"Число нечетное\")"
   ]
  },
  {
   "cell_type": "code",
   "execution_count": 6,
   "id": "cee96a53",
   "metadata": {},
   "outputs": [
    {
     "name": "stdout",
     "output_type": "stream",
     "text": [
      "100\n",
      "99\n",
      "98\n",
      "97\n",
      "96\n",
      "95\n",
      "94\n",
      "93\n",
      "92\n",
      "91\n",
      "90\n",
      "89\n",
      "88\n",
      "87\n",
      "86\n",
      "85\n",
      "84\n",
      "83\n",
      "82\n",
      "81\n",
      "80\n",
      "79\n",
      "78\n",
      "77\n",
      "76\n",
      "75\n",
      "74\n",
      "73\n",
      "72\n",
      "71\n",
      "70\n",
      "69\n",
      "68\n",
      "67\n",
      "66\n",
      "65\n",
      "64\n",
      "63\n",
      "62\n",
      "61\n",
      "60\n",
      "59\n",
      "58\n",
      "57\n",
      "56\n",
      "55\n",
      "54\n",
      "53\n",
      "52\n",
      "51\n",
      "50\n",
      "49\n",
      "48\n",
      "47\n",
      "46\n",
      "45\n",
      "44\n",
      "43\n",
      "42\n",
      "41\n",
      "40\n",
      "39\n",
      "38\n",
      "37\n",
      "36\n",
      "35\n",
      "34\n",
      "33\n",
      "32\n",
      "31\n",
      "30\n",
      "29\n",
      "28\n",
      "27\n",
      "26\n",
      "25\n",
      "24\n",
      "23\n",
      "22\n",
      "21\n",
      "20\n",
      "19\n",
      "18\n",
      "17\n",
      "16\n",
      "15\n",
      "14\n",
      "13\n",
      "12\n",
      "11\n",
      "10\n",
      "9\n",
      "8\n",
      "7\n",
      "6\n",
      "5\n",
      "4\n",
      "3\n",
      "2\n",
      "1\n"
     ]
    }
   ],
   "source": [
    "#2\n",
    "for i in range(100, 0, -1):\n",
    "    print(i)"
   ]
  },
  {
   "cell_type": "code",
   "execution_count": 7,
   "id": "dbb1d68e",
   "metadata": {},
   "outputs": [
    {
     "name": "stdout",
     "output_type": "stream",
     "text": [
      "налусаЖ\n"
     ]
    }
   ],
   "source": [
    "#3\n",
    "user_input = input()\n",
    "reversed_string = user_input[::-1]\n",
    "print(reversed_string)"
   ]
  },
  {
   "cell_type": "code",
   "execution_count": 8,
   "id": "ced25df4",
   "metadata": {},
   "outputs": [
    {
     "name": "stdout",
     "output_type": "stream",
     "text": [
      "2 больше\n"
     ]
    }
   ],
   "source": [
    "#4\n",
    "num1 = int(input())\n",
    "num2 = int(input())\n",
    "if num1 > num2:\n",
    "    print(num1, \"больше\")\n",
    "else:\n",
    "    print(num2, \"больше\")\n"
   ]
  },
  {
   "cell_type": "code",
   "execution_count": 9,
   "id": "8d7b4332",
   "metadata": {},
   "outputs": [
    {
     "name": "stdout",
     "output_type": "stream",
     "text": [
      "3 x 1 = 3\n",
      "3 x 2 = 6\n",
      "3 x 3 = 9\n",
      "3 x 4 = 12\n",
      "3 x 5 = 15\n",
      "3 x 6 = 18\n",
      "3 x 7 = 21\n",
      "3 x 8 = 24\n",
      "3 x 9 = 27\n"
     ]
    }
   ],
   "source": [
    "#5\n",
    "num = int(input())\n",
    "for i in range(1, 10):\n",
    "    print(f\"{num} x {i} = {num * i}\")"
   ]
  },
  {
   "cell_type": "markdown",
   "id": "be091285",
   "metadata": {},
   "source": [
    "## Работа с коллекциями\n",
    "\n",
    "В Python есть несколько встроенных коллекций, таких как списки, словари и множества.\n",
    "\n",
    "### 2.1 Списки\n",
    "Списки — это упорядоченные изменяемые коллекции элементов.\n"
   ]
  },
  {
   "cell_type": "code",
   "execution_count": 10,
   "id": "2339bd5a",
   "metadata": {},
   "outputs": [],
   "source": [
    "\n",
    "my_list = [1, 2, 3, 4, 5]\n"
   ]
  },
  {
   "cell_type": "markdown",
   "id": "4f0d69e8",
   "metadata": {},
   "source": [
    "\n",
    "### 2.2 Словари\n",
    "Словари хранят данные в виде пар ключ-значение.\n"
   ]
  },
  {
   "cell_type": "code",
   "execution_count": 11,
   "id": "3a290cbb",
   "metadata": {},
   "outputs": [],
   "source": [
    "my_dict = {\"name\": \"Alice\", \"age\": 25}\n"
   ]
  },
  {
   "cell_type": "markdown",
   "id": "0fbde33d",
   "metadata": {},
   "source": [
    "\n",
    "\n",
    "### 2.3 Множества\n",
    "Множества содержат уникальные элементы и являются неупорядоченными.\n"
   ]
  },
  {
   "cell_type": "code",
   "execution_count": 12,
   "id": "13643a20",
   "metadata": {},
   "outputs": [],
   "source": [
    "\n",
    "my_set = {1, 2, 3, 4, 5}\n",
    "\n"
   ]
  },
  {
   "cell_type": "markdown",
   "id": "193b2bc5",
   "metadata": {},
   "source": [
    "### Практические задачи:\n",
    "\n",
    "1. Создайте список из 10 чисел и найдите их сумму.\n",
    "2. Напишите программу, которая проверяет, есть ли в списке дубликаты.\n",
    "3. Напишите программу, которая инвертирует словарь (меняет местами ключи и значения).\n",
    "4. Напишите программу, которая объединяет два множества и выводит только уникальные элементы.\n",
    "5. Напишите программу, которая выводит количество вхождений каждого элемента в списке.\n"
   ]
  },
  {
   "cell_type": "code",
   "execution_count": 13,
   "id": "e0b9078b",
   "metadata": {},
   "outputs": [
    {
     "name": "stdout",
     "output_type": "stream",
     "text": [
      "35\n"
     ]
    }
   ],
   "source": [
    "your_list = [1, 2, 3, 4, 5, 1, 2, 8, 4, 5]\n",
    "#1\n",
    "your_list_sum = sum(your_list)\n",
    "print(your_list_sum)"
   ]
  },
  {
   "cell_type": "code",
   "execution_count": 14,
   "id": "de7873ca",
   "metadata": {},
   "outputs": [
    {
     "name": "stdout",
     "output_type": "stream",
     "text": [
      "Дубликаты есть\n"
     ]
    }
   ],
   "source": [
    "#2\n",
    "if len(your_list) != len(set(your_list)):\n",
    "    print(\"Дубликаты есть\")\n",
    "else:\n",
    "    print(\"Дубликатов нет\")"
   ]
  },
  {
   "cell_type": "code",
   "execution_count": 15,
   "id": "d18e2a94",
   "metadata": {},
   "outputs": [
    {
     "name": "stdout",
     "output_type": "stream",
     "text": [
      "{1: 'a', 2: 'b', 3: 'c'}\n"
     ]
    }
   ],
   "source": [
    "#3\n",
    "my_dict = {'a': 1, 'b': 2, 'c': 3}\n",
    "inverted_dict = {v: k for k, v in my_dict.items()}\n",
    "print(inverted_dict)\n"
   ]
  },
  {
   "cell_type": "code",
   "execution_count": 16,
   "id": "f397d33c",
   "metadata": {},
   "outputs": [
    {
     "name": "stdout",
     "output_type": "stream",
     "text": [
      "{1, 2, 3, 4, 5, 6, 7, 8}\n"
     ]
    }
   ],
   "source": [
    "#4\n",
    "set1 = {1, 2, 3, 4, 5}\n",
    "set2 = {4, 5, 6, 7, 8}\n",
    "combined_set = set1.union(set2)\n",
    "print(combined_set)"
   ]
  },
  {
   "cell_type": "code",
   "execution_count": 17,
   "id": "370de903",
   "metadata": {},
   "outputs": [
    {
     "name": "stdout",
     "output_type": "stream",
     "text": [
      "{1: 3, 3: 1, 4: 1, 5: 3}\n"
     ]
    }
   ],
   "source": [
    "#5\n",
    "a = [1,1,1,3,4,5,5,5]\n",
    "new_set = {x: a.count(x) for x in a}\n",
    "print(new_set)"
   ]
  },
  {
   "cell_type": "markdown",
   "id": "cf760506",
   "metadata": {},
   "source": [
    "## List|Dict|Set comprehension\n",
    "\n",
    "Comprehensions — это краткая запись для создания коллекций.\n",
    "\n",
    "### 3.1 List Comprehension\n",
    "Создание нового списка на основе существующего.\n"
   ]
  },
  {
   "cell_type": "code",
   "execution_count": 18,
   "id": "72537b4a",
   "metadata": {},
   "outputs": [
    {
     "name": "stdout",
     "output_type": "stream",
     "text": [
      "[0, 1, 4, 9, 16, 25, 36, 49, 64, 81, 100]\n"
     ]
    }
   ],
   "source": [
    "\n",
    "squares = [x**2 for x in range(11)]\n",
    "print(squares)\n"
   ]
  },
  {
   "cell_type": "markdown",
   "id": "b92fd90e",
   "metadata": {},
   "source": [
    "\n",
    "\n",
    "### 3.2 Dict Comprehension\n",
    "Создание словаря с ключами и значениями, используя цикл.\n"
   ]
  },
  {
   "cell_type": "code",
   "execution_count": 19,
   "id": "e04d6a31",
   "metadata": {},
   "outputs": [],
   "source": [
    "\n",
    "square_dict = {x: x**2 for x in range(10)}\n"
   ]
  },
  {
   "cell_type": "markdown",
   "id": "40d79ebb",
   "metadata": {},
   "source": [
    "\n",
    "\n",
    "### 3.3 Set Comprehension\n",
    "Создание множества с использованием выражений.\n"
   ]
  },
  {
   "cell_type": "code",
   "execution_count": 20,
   "id": "c1142023",
   "metadata": {},
   "outputs": [],
   "source": [
    "\n",
    "square_set = {x**2 for x in range(10)}\n"
   ]
  },
  {
   "cell_type": "markdown",
   "id": "d141a8fb",
   "metadata": {},
   "source": [
    "### Практические задачи:\n",
    "\n",
    "1. Создайте список квадратов чисел от 1 до 10 с использованием list comprehension.\n",
    "2. Создайте словарь, где ключами будут числа от 1 до 5, а значениями — их кубы.\n",
    "3. Используя set comprehension, создайте множество квадратов нечётных чисел от 1 до 20.\n",
    "4. Преобразуйте список строк в список их длин.\n",
    "5. Создайте список чисел от 1 до 100, кратных 3 и 5, используя list comprehension.\n"
   ]
  },
  {
   "cell_type": "code",
   "execution_count": 21,
   "id": "0c87ad78",
   "metadata": {},
   "outputs": [
    {
     "name": "stdout",
     "output_type": "stream",
     "text": [
      "[0, 1, 4, 9, 16, 25, 36, 49, 64, 81, 100]\n"
     ]
    }
   ],
   "source": [
    "#1\n",
    "squares = [x**2 for x in range(11)]\n",
    "print(squares)"
   ]
  },
  {
   "cell_type": "code",
   "execution_count": 22,
   "id": "d73783b0",
   "metadata": {},
   "outputs": [
    {
     "name": "stdout",
     "output_type": "stream",
     "text": [
      "{0: 0, 1: 1, 2: 8, 3: 27, 4: 64, 5: 125}\n"
     ]
    }
   ],
   "source": [
    "#2\n",
    "square_dict = {x: x**3 for x in range(6)}\n",
    "print(square_dict)"
   ]
  },
  {
   "cell_type": "code",
   "execution_count": 23,
   "id": "f332ca4f",
   "metadata": {},
   "outputs": [
    {
     "name": "stdout",
     "output_type": "stream",
     "text": [
      "{1, 121, 225, 289, 9, 169, 361, 81, 49, 25}\n"
     ]
    }
   ],
   "source": [
    "#3\n",
    "square_set = {x**2 for x in range(1,21,2)}\n",
    "print(square_set)"
   ]
  },
  {
   "cell_type": "code",
   "execution_count": 24,
   "id": "6c7e41d6",
   "metadata": {},
   "outputs": [
    {
     "name": "stdout",
     "output_type": "stream",
     "text": [
      "[9, 5]\n"
     ]
    }
   ],
   "source": [
    "#4\n",
    "list_names = ['Zhassulan', 'Assel']\n",
    "list_names_len = [len(x) for x in list_names]\n",
    "print (list_names_len)"
   ]
  },
  {
   "cell_type": "code",
   "execution_count": 25,
   "id": "4745db2e",
   "metadata": {},
   "outputs": [
    {
     "name": "stdout",
     "output_type": "stream",
     "text": [
      "[15, 30, 45, 60, 75, 90]\n"
     ]
    }
   ],
   "source": [
    "#5\n",
    "a = [x for x in range(1,100) if x % 3 == 0 and x % 5 == 0]\n",
    "print(a)\n"
   ]
  },
  {
   "cell_type": "markdown",
   "id": "8dd91ca1",
   "metadata": {},
   "source": [
    "## Функции и лямбда-функции\n",
    "\n",
    "### 4.1 Обычные функции\n",
    "Функции позволяют группировать повторяющийся код для его многократного использования.\n"
   ]
  },
  {
   "cell_type": "code",
   "execution_count": 26,
   "id": "3027ecaf",
   "metadata": {},
   "outputs": [],
   "source": [
    "\n",
    "def add(a, b):\n",
    "    return a + b\n",
    "\n"
   ]
  },
  {
   "cell_type": "markdown",
   "id": "ecf43717",
   "metadata": {},
   "source": [
    "\n",
    "### 4.2 Лямбда-функции\n",
    "Лямбда-функции — это анонимные функции, которые могут иметь любое количество аргументов, но только одно выражение.\n"
   ]
  },
  {
   "cell_type": "code",
   "execution_count": 27,
   "id": "09e9a0ed",
   "metadata": {},
   "outputs": [],
   "source": [
    "\n",
    "add = lambda a, b: a + b\n"
   ]
  },
  {
   "cell_type": "markdown",
   "id": "dbf64d34",
   "metadata": {},
   "source": [
    "### Практические задачи:\n",
    "\n",
    "1. Напишите функцию, которая принимает список чисел и возвращает их сумму.\n",
    "2. Напишите функцию, которая принимает строку и возвращает её длину.\n",
    "3. Напишите лямбда-функцию для возведения числа в квадрат.\n",
    "4. Создайте функцию, которая проверяет, является ли переданное число чётным.\n",
    "5. Напишите функцию, которая принимает список строк и возвращает только те, которые длиннее 5 символов.\n"
   ]
  },
  {
   "cell_type": "code",
   "execution_count": 28,
   "id": "e16ba2b2",
   "metadata": {},
   "outputs": [
    {
     "data": {
      "text/plain": [
       "14"
      ]
     },
     "execution_count": 28,
     "metadata": {},
     "output_type": "execute_result"
    }
   ],
   "source": [
    "#1\n",
    "def add(a, b):\n",
    "    return a + b\n",
    "add(9,5)"
   ]
  },
  {
   "cell_type": "code",
   "execution_count": 29,
   "id": "07502911",
   "metadata": {},
   "outputs": [
    {
     "data": {
      "text/plain": [
       "9"
      ]
     },
     "execution_count": 29,
     "metadata": {},
     "output_type": "execute_result"
    }
   ],
   "source": [
    "#2\n",
    "def add(a):\n",
    "    return len(a)\n",
    "add('Zhassulan')"
   ]
  },
  {
   "cell_type": "code",
   "execution_count": 30,
   "id": "6da3a531",
   "metadata": {},
   "outputs": [
    {
     "name": "stdout",
     "output_type": "stream",
     "text": [
      "25\n"
     ]
    }
   ],
   "source": [
    "#3\n",
    "square = lambda a: a**2\n",
    "print (square(5))"
   ]
  },
  {
   "cell_type": "code",
   "execution_count": 31,
   "id": "0e4a4b0f",
   "metadata": {},
   "outputs": [
    {
     "name": "stdout",
     "output_type": "stream",
     "text": [
      "9 больше\n"
     ]
    }
   ],
   "source": [
    "#4\n",
    "def comparison(a,b):\n",
    "    if a > b:\n",
    "        print(a, \"больше\")\n",
    "    else:\n",
    "        print(b, \"больше\")\n",
    "\n",
    "comparison (9,5)"
   ]
  },
  {
   "cell_type": "code",
   "execution_count": 32,
   "id": "85ba1848",
   "metadata": {},
   "outputs": [
    {
     "name": "stdout",
     "output_type": "stream",
     "text": [
      "['Privet', 'Zdraste']\n"
     ]
    }
   ],
   "source": [
    "#5\n",
    "def filt_strings(strings):\n",
    "    return [s for s in strings if len(s) > 5]\n",
    "my_strings = [\"Privet\",\"Poka\",\"Zdraste\"]\n",
    "print(filt_strings(my_strings))"
   ]
  },
  {
   "cell_type": "markdown",
   "id": "f619d28a",
   "metadata": {},
   "source": [
    "## Работа с файлами\n",
    "\n",
    "Работа с файлами включает открытие, чтение, запись и закрытие файлов.\n",
    "\n",
    "Пример записи в файл:\n"
   ]
  },
  {
   "cell_type": "code",
   "execution_count": 33,
   "id": "e1e1e92b",
   "metadata": {},
   "outputs": [],
   "source": [
    "\n",
    "with open(\"example.txt\", \"w\") as file:\n",
    "    file.write(\"Hello, world!\")\n",
    "\n"
   ]
  },
  {
   "cell_type": "markdown",
   "id": "43f56e01",
   "metadata": {},
   "source": [
    "\n",
    "Пример чтения из файла:\n"
   ]
  },
  {
   "cell_type": "code",
   "execution_count": 34,
   "id": "1f32936f",
   "metadata": {},
   "outputs": [
    {
     "name": "stdout",
     "output_type": "stream",
     "text": [
      "Hello, world!\n"
     ]
    }
   ],
   "source": [
    "\n",
    "with open(\"example.txt\", \"r\") as file:\n",
    "    content = file.read()\n",
    "    print(content)\n",
    "\n"
   ]
  },
  {
   "cell_type": "markdown",
   "id": "474ea80a",
   "metadata": {},
   "source": [
    "### Практические задачи:\n",
    "\n",
    "1. Напишите программу, которая записывает список чисел в файл.\n",
    "2. Напишите программу, которая читает содержимое файла и выводит его на экран.\n",
    "3. Создайте файл с текстом, а затем напишите программу, которая подсчитывает количество строк в файле.\n",
    "4. Напишите программу, которая копирует содержимое одного файла в другой.\n",
    "5. Напишите программу, которая добавляет новый текст в конец файла.\n"
   ]
  },
  {
   "cell_type": "markdown",
   "id": "9ef5ae84",
   "metadata": {},
   "source": [
    "## Методы map, zip, filter, reduce\n",
    "\n",
    "### 6.1 map()\n",
    "Функция `map()` применяет функцию ко всем элементам итерируемого объекта.\n"
   ]
  },
  {
   "cell_type": "code",
   "execution_count": 35,
   "id": "cc950e9f",
   "metadata": {},
   "outputs": [],
   "source": [
    "\n",
    "numbers = [1, 2, 3]\n",
    "squared = list(map(lambda x: x**2, numbers))\n",
    "\n"
   ]
  },
  {
   "cell_type": "markdown",
   "id": "f73ee8c9",
   "metadata": {},
   "source": [
    "\n",
    "\n",
    "### 6.2 zip()\n",
    "Функция `zip()` объединяет несколько итерируемых объектов в кортежи.\n"
   ]
  },
  {
   "cell_type": "code",
   "execution_count": 36,
   "id": "d884367b",
   "metadata": {},
   "outputs": [
    {
     "data": {
      "text/plain": [
       "[(1, 'a'), (2, 'b')]"
      ]
     },
     "execution_count": 36,
     "metadata": {},
     "output_type": "execute_result"
    }
   ],
   "source": [
    "\n",
    "list(zip([1, 2], ['a', 'b']))  # [(1, 'a'), (2, 'b')]\n",
    "\n"
   ]
  },
  {
   "cell_type": "markdown",
   "id": "bbe012bd",
   "metadata": {},
   "source": [
    "\n",
    "### 6.3 filter()\n",
    "Функция `filter()` отбирает элементы, которые удовлетворяют условию.\n"
   ]
  },
  {
   "cell_type": "code",
   "execution_count": 37,
   "id": "2775960a",
   "metadata": {},
   "outputs": [],
   "source": [
    "\n",
    "\n",
    "even_numbers = list(filter(lambda x: x % 2 == 0, numbers))\n"
   ]
  },
  {
   "cell_type": "markdown",
   "id": "d941a15a",
   "metadata": {},
   "source": [
    "\n",
    "### 6.4 reduce()\n",
    "Функция `reduce()` из модуля `functools` сворачивает последовательность в одно значение.\n"
   ]
  },
  {
   "cell_type": "code",
   "execution_count": 38,
   "id": "13d4a054",
   "metadata": {},
   "outputs": [],
   "source": [
    "\n",
    "\n",
    "from functools import reduce\n",
    "product = reduce(lambda x, y: x * y, numbers)\n",
    "\n"
   ]
  },
  {
   "cell_type": "markdown",
   "id": "38a5d5ae",
   "metadata": {},
   "source": [
    "### Практические задачи:\n",
    "\n",
    "1. Используйте `map()` для возведения всех элементов списка в квадрат.\n",
    "2. Используйте `zip()` для объединения двух списков в пары.\n",
    "3. Используйте `filter()` для выбора чётных чисел из списка.\n",
    "4. Используйте `reduce()` для нахождения произведения всех чисел в списке.\n",
    "5. Используйте `map()` для преобразования списка строк в их длины.\n"
   ]
  },
  {
   "cell_type": "code",
   "execution_count": 39,
   "id": "d1a58f1d",
   "metadata": {},
   "outputs": [
    {
     "name": "stdout",
     "output_type": "stream",
     "text": [
      "[1, 4, 9]\n"
     ]
    }
   ],
   "source": [
    "#1\n",
    "numbers = [1, 2, 3]\n",
    "squared = list(map(lambda x: x**2, numbers))\n",
    "print (squared)"
   ]
  },
  {
   "cell_type": "code",
   "execution_count": 40,
   "id": "3468a78d",
   "metadata": {},
   "outputs": [
    {
     "data": {
      "text/plain": [
       "[(1, 'a'), (2, 'b')]"
      ]
     },
     "execution_count": 40,
     "metadata": {},
     "output_type": "execute_result"
    }
   ],
   "source": [
    "#2\n",
    "list(zip([1, 2], ['a', 'b']))"
   ]
  },
  {
   "cell_type": "code",
   "execution_count": 41,
   "id": "3d1b773c",
   "metadata": {},
   "outputs": [
    {
     "name": "stdout",
     "output_type": "stream",
     "text": [
      "[2]\n"
     ]
    }
   ],
   "source": [
    "#3\n",
    "even_numbers = list(filter(lambda x: x % 2 == 0, numbers))\n",
    "print(even_numbers)"
   ]
  },
  {
   "cell_type": "code",
   "execution_count": 42,
   "id": "3d428480",
   "metadata": {},
   "outputs": [
    {
     "name": "stdout",
     "output_type": "stream",
     "text": [
      "6\n"
     ]
    }
   ],
   "source": [
    "#4\n",
    "from functools import reduce\n",
    "product = reduce(lambda x, y: x * y, numbers)\n",
    "print (product)"
   ]
  },
  {
   "cell_type": "code",
   "execution_count": 43,
   "id": "288b51a1",
   "metadata": {},
   "outputs": [
    {
     "name": "stdout",
     "output_type": "stream",
     "text": [
      "[9, 5]\n"
     ]
    }
   ],
   "source": [
    "#5\n",
    "words = ['Zhassulan', 'Assel']\n",
    "words_count = list(map(lambda x: len(x), words))\n",
    "print (words_count)"
   ]
  },
  {
   "cell_type": "code",
   "execution_count": null,
   "id": "78c5e898",
   "metadata": {},
   "outputs": [],
   "source": []
  }
 ],
 "metadata": {
  "kernelspec": {
   "display_name": "Python 3",
   "language": "python",
   "name": "python3"
  },
  "language_info": {
   "codemirror_mode": {
    "name": "ipython",
    "version": 3
   },
   "file_extension": ".py",
   "mimetype": "text/x-python",
   "name": "python",
   "nbconvert_exporter": "python",
   "pygments_lexer": "ipython3",
   "version": "3.11.9"
  }
 },
 "nbformat": 4,
 "nbformat_minor": 5
}
